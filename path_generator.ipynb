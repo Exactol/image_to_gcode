{
 "cells": [
  {
   "cell_type": "code",
   "execution_count": 1,
   "metadata": {},
   "outputs": [],
   "source": [
    "import matplotlib as mpl\n",
    "from matplotlib import pyplot as plt\n",
    "from ipywidgets import interact, widgets\n",
    "import numpy as np\n",
    "import cv2 as cv"
   ]
  },
  {
   "cell_type": "code",
   "execution_count": 16,
   "metadata": {},
   "outputs": [
    {
     "name": "stdout",
     "output_type": "stream",
     "text": [
      "Aspect ratio: 0.75\n",
      "New dimensions: (169, 225)\n"
     ]
    }
   ],
   "source": [
    "image = cv.imread('./cat.png')\n",
    "\n",
    "table_width = 180\n",
    "table_height = 230\n",
    "\n",
    "height, width, _ = image.shape\n",
    "aspect_ratio = width / height\n",
    "\n",
    "# scale using width\n",
    "new_width = int(table_width * (1 - table_width/width))\n",
    "new_height = int(new_width/aspect_ratio)\n",
    "\n",
    "print(f'Aspect ratio: {aspect_ratio}')\n",
    "print(f'New dimensions: ({new_width}, {new_height})')\n",
    "\n",
    "# scale image to size of table\n",
    "image = cv.resize(image, (new_width, new_height), interpolation=cv.INTER_AREA)"
   ]
  },
  {
   "cell_type": "code",
   "execution_count": 17,
   "metadata": {},
   "outputs": [
    {
     "data": {
      "application/vnd.jupyter.widget-view+json": {
       "model_id": "62033ea62ee148e1b59eb2c4480ca2da",
       "version_major": 2,
       "version_minor": 0
      },
      "text/plain": [
       "interactive(children=(IntSlider(value=100, description='min_threshold', max=300, min=-100), IntSlider(value=20…"
      ]
     },
     "metadata": {},
     "output_type": "display_data"
    }
   ],
   "source": [
    "@interact(min_threshold=100, max_threshold=200, aperture=(3,7,2))\n",
    "def get_contours(min_threshold, max_threshold, aperture=3):\n",
    "\t# get edges using Canny edge detector\n",
    "\tglobal edges\n",
    "\tedges = cv.Canny(image, min_threshold, max_threshold, apertureSize=aperture)\n",
    "\n",
    "\t# display original image\n",
    "\tplt.rcParams[\"figure.figsize\"]=15,15\n",
    "\tplt.subplot(121)\n",
    "\t# opencv stores image as bgr, need to convert back to display properly\n",
    "\tplt.imshow(cv.cvtColor(image, cv.COLOR_BGR2RGB))\n",
    "\tplt.title('Original Image') \n",
    "\tplt.xticks([])\n",
    "\tplt.yticks([])\n",
    "\n",
    "\t# display detected edges\n",
    "\tplt.subplot(122)\n",
    "\tplt.imshow(edges, cmap='gray')\n",
    "\tplt.title('Edges') \n",
    "\tplt.xticks([])\n",
    "\tplt.yticks([])\n",
    "\n",
    "\tplt.show()\n"
   ]
  },
  {
   "cell_type": "code",
   "execution_count": 24,
   "metadata": {},
   "outputs": [
    {
     "data": {
      "application/vnd.jupyter.widget-view+json": {
       "model_id": "ca7cb9e2eb0e4bc59528ad96b9213892",
       "version_major": 2,
       "version_minor": 0
      },
      "text/plain": [
       "interactive(children=(IntSlider(value=-1, description='cur_depth', max=102, min=-1), Output()), _dom_classes=(…"
      ]
     },
     "metadata": {},
     "output_type": "display_data"
    }
   ],
   "source": [
    "# TODO: RETR_EXTERNAL might be good\n",
    "contours, hierarchy = cv.findContours(edges, cv.RETR_TREE, cv.CHAIN_APPROX_SIMPLE)\n",
    "hierarchy = hierarchy[0]\n",
    "\n",
    "# hierarchy format: [next (same level), previous (same level), first_child, parent]\n",
    "# roots have no parent (parent is -1). Get index for all roots\n",
    "roots = [i for i, h in enumerate(hierarchy) if h[3] == -1]\n",
    "\n",
    "w = widgets.IntSlider(value=-1, min=-1, max=len(contours))\n",
    "@interact(cur_depth=w)\n",
    "def draw_image(cur_depth):\n",
    "\t# display detected contours\n",
    "\tim_contours = image.copy()\n",
    "\tcmap = plt.cm.get_cmap('hsv', len(contours))\n",
    "\n",
    "\tdef draw_hierarchy(root, depth, group_index):\n",
    "\t\tgroup_color = np.multiply(cmap(group_index), 255)\n",
    "\t\t# group_color = np.multiply(cmap(depth), 255)\n",
    "\n",
    "\t\tcur_hierarchy = hierarchy[root]\n",
    "\n",
    "\t\tcontour = contours[root]\n",
    "\t\tif cur_depth == -1 or depth == cur_depth:\n",
    "\t\t\tcv.drawContours(im_contours, [contour], -1, group_color, 1)\n",
    "\t\t\tfor c in contour:\n",
    "\t\t\t\tcv.circle(im_contours, c[0], 1, group_color, cv.FILLED)\n",
    "\n",
    "\t\t# draw children of this contour\n",
    "\t\tchild_contour = cur_hierarchy[2]\n",
    "\t\tif (child_contour != -1):\n",
    "\t\t\tdraw_hierarchy(child_contour, depth + 1, group_index)\n",
    "\n",
    "\t\t# draw other contours on current level\n",
    "\t\tcur_contour = cur_hierarchy[0]\n",
    "\t\tif (cur_contour != -1):\n",
    "\t\t\tdraw_hierarchy(cur_contour, depth, group_index)\n",
    "\n",
    "\n",
    "\tfor i, group in enumerate(roots):\n",
    "\t\tdraw_hierarchy(group, 0, i)\t\n",
    "\t# draw_hierarchy(roots[0], 0)\t\n",
    "\n",
    "\t# for i, group in enumerate(contours):\n",
    "\t# \tgroup_color = np.multiply(cmap(i), 255)\n",
    "\t# \tcv.drawContours(im_contours, [group], -1, group_color, 1)\n",
    "\t# \t# cv.drawContours(im_contours, [group], -1, group_color, cv.FILLED)\n",
    "\t# \tfor contour in group:\n",
    "\t# \t\tcv.circle(im_contours, contour[0], 2, group_color, cv.FILLED)\n",
    "\n",
    "\tplt.imshow(im_contours, cmap='gray')\n",
    "\tplt.title('Contours')\n",
    "\tplt.xticks([])\n",
    "\tplt.yticks([])\n",
    "\tplt.show()"
   ]
  },
  {
   "cell_type": "code",
   "execution_count": 21,
   "metadata": {},
   "outputs": [],
   "source": [
    "with open('out.g', 'w') as f:\n",
    "\tf.write('; BEGIN PRE\\n')\n",
    "\tf.write('G28\\n') # return to start\n",
    "\tf.write('G1 F1000\\n') # set print speed\n",
    "\tf.write('M906 X200 Y200\\n') # set stepper voltages\n",
    "\tf.write('M808 L0\\n') # loop forever\n",
    "\tf.write('; END PRE\\n')\n",
    "\n",
    "\t# for i, group in enumerate(contours):\n",
    "\t# \tif i != 1:\n",
    "\t# \t\tf.write(f'; START GROUP {i}\\n')\n",
    "\t# \t\tfor contour in group:\n",
    "\t# \t\t\tf.write(f'G01 X{contour[0][0]} Y{contour[0][1]}\\n')\n",
    "\t# \t\tf.write(f'; END GROUP {i}\\n')\n",
    "\n",
    "\tdef draw_hierarchy(root, depth):\n",
    "\t\tcur_hierarchy = hierarchy[root]\n",
    "\n",
    "\t\tcontour = contours[root]\n",
    "\t\t# if depth == 1:\n",
    "\t\tfor point in contour:\n",
    "\t\t\tf.write(f'G01 X{point[0][0]} Y{point[0][1]}\\n')\n",
    "\n",
    "\t\t# draw children of this contour\n",
    "\t\tchild_contour = cur_hierarchy[2]\n",
    "\t\tif (child_contour != -1):\n",
    "\t\t\tdraw_hierarchy(child_contour, depth + 1)\n",
    "\n",
    "\t\t# draw other contours on current level\n",
    "\t\tcur_contour = cur_hierarchy[0]\n",
    "\t\tif (cur_contour != -1):\n",
    "\t\t\tdraw_hierarchy(cur_contour, depth)\n",
    "\n",
    "\n",
    "\tfor i, group in enumerate(roots):\n",
    "\t\tf.write(f'; START GROUP {i}\\n')\n",
    "\t\tdraw_hierarchy(group, 0)\t\n",
    "\t\tf.write(f'; END GROUP {i}\\n')\n",
    "\n"
   ]
  }
 ],
 "metadata": {
  "kernelspec": {
   "display_name": "Python 3.10.2 ('venv': venv)",
   "language": "python",
   "name": "python3"
  },
  "language_info": {
   "codemirror_mode": {
    "name": "ipython",
    "version": 3
   },
   "file_extension": ".py",
   "mimetype": "text/x-python",
   "name": "python",
   "nbconvert_exporter": "python",
   "pygments_lexer": "ipython3",
   "version": "3.10.2"
  },
  "orig_nbformat": 4,
  "vscode": {
   "interpreter": {
    "hash": "89074ed24855c0e150de6295153e71534eead7a50d9cfbd22fb3c9211951bb99"
   }
  }
 },
 "nbformat": 4,
 "nbformat_minor": 2
}
