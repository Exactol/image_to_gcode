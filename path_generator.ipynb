{
 "cells": [
  {
   "cell_type": "code",
   "execution_count": null,
   "metadata": {},
   "outputs": [],
   "source": [
    "import matplotlib as mpl\n",
    "from matplotlib import pyplot as plt\n",
    "from ipywidgets import interact\n",
    "import numpy as np\n",
    "import cv2 as cv"
   ]
  },
  {
   "cell_type": "code",
   "execution_count": null,
   "metadata": {},
   "outputs": [],
   "source": [
    "image = cv.imread('./square.png')"
   ]
  },
  {
   "cell_type": "code",
   "execution_count": 11,
   "metadata": {},
   "outputs": [
    {
     "data": {
      "image/png": "[encoded data removed]",
      "text/plain": [
       "<Figure size 1080x1080 with 2 Axes>"
      ]
     },
     "metadata": {},
     "output_type": "display_data"
    }
   ],
   "source": [
    "@interact(min_threshold=100, max_threshold=200)\n",
    "def get_contours(min_threshold, max_threshold):\n",
    "\t# get edges using Canny edge detector\n",
    "\tglobal edges\n",
    "\tedges = cv.Canny(image, min_threshold, max_threshold, apertureSize=3)\n",
    "\n",
    "\t# display original image\n",
    "\tplt.rcParams[\"figure.figsize\"]=15,15\n",
    "\tplt.subplot(121)\n",
    "\tplt.imshow(image, cmap='gray')\n",
    "\tplt.title('Original Image') \n",
    "\tplt.xticks([])\n",
    "\tplt.yticks([])\n",
    "\n",
    "\t# display detected edges\n",
    "\tplt.subplot(122)\n",
    "\tplt.imshow(edges, cmap='gray')\n",
    "\tplt.title('Edges') \n",
    "\tplt.xticks([])\n",
    "\tplt.yticks([])\n",
    "\n",
    "\tplt.show()\n"
   ]
  },
  {
   "cell_type": "code",
   "execution_count": null,
   "metadata": {},
   "outputs": [],
   "source": [
    "contours, hierarchy = cv.findContours(edges, cv.RETR_TREE, cv.CHAIN_APPROX_SIMPLE)\n",
    "\n",
    "# display detected contours\n",
    "im_contours = image.copy()\n",
    "# cv.drawContours(im_contours, contours, -1, (0, 255, 0), 3)\n",
    "cmap = plt.cm.get_cmap('hsv', len(contours),)\n",
    "for i, group in enumerate(contours):\n",
    "\tgroup_color = np.multiply(cmap(i), 255)\n",
    "\tfor contour in group:\n",
    "\t\tcv.drawContours(im_contours, [contour], 0, group_color, 3)\n",
    "\t\tcv.circle(im_contours, contour[0], 5, group_color, cv.FILLED)\n",
    "\n",
    "plt.imshow(im_contours, cmap='gray')\n",
    "plt.title('Contours')\n",
    "plt.xticks([])\n",
    "plt.yticks([])\n",
    "plt.show()"
   ]
  }
 ],
 "metadata": {
  "kernelspec": {
   "display_name": "Python 3.10.2 ('venv': venv)",
   "language": "python",
   "name": "python3"
  },
  "language_info": {
   "codemirror_mode": {
    "name": "ipython",
    "version": 3
   },
   "file_extension": ".py",
   "mimetype": "text/x-python",
   "name": "python",
   "nbconvert_exporter": "python",
   "pygments_lexer": "ipython3",
   "version": "3.10.2"
  },
  "orig_nbformat": 4,
  "vscode": {
   "interpreter": {
    "hash": "89074ed24855c0e150de6295153e71534eead7a50d9cfbd22fb3c9211951bb99"
   }
  }
 },
 "nbformat": 4,
 "nbformat_minor": 2
}
