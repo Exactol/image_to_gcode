{
 "cells": [
  {
   "cell_type": "code",
   "execution_count": 1,
   "metadata": {},
   "outputs": [],
   "source": [
    "import matplotlib as mpl\n",
    "from matplotlib import pyplot as plt\n",
    "from ipywidgets import interact, widgets\n",
    "import numpy as np\n",
    "import cv2 as cv\n",
    "from typing import Callable\n",
    "# from pykdtree.kdtree import KDTree\n",
    "from scipy.spatial import cKDTree\n",
    "\n",
    "def show(im, title, show=True):\n",
    "\tplt.rcParams[\"figure.figsize\"]=15,15\n",
    "\tplt.imshow(im, cmap='gray')\n",
    "\tplt.title(title)\n",
    "\tplt.xticks([])\n",
    "\tplt.yticks([])\n",
    "\tif show:\n",
    "\t\tplt.show()\n",
    "\n"
   ]
  },
  {
   "cell_type": "code",
   "execution_count": 70,
   "metadata": {},
   "outputs": [
    {
     "name": "stdout",
     "output_type": "stream",
     "text": [
      "Aspect ratio: 1.0\n",
      "New dimensions: (147, 147)\n"
     ]
    }
   ],
   "source": [
    "image = cv.imread('./test.png')\n",
    "\n",
    "table_width = 180\n",
    "table_height = 230\n",
    "\n",
    "height, width, _ = image.shape\n",
    "aspect_ratio = width / height\n",
    "\n",
    "# scale using width\n",
    "new_width = int(table_width * (1 - table_width/width))\n",
    "new_height = int(new_width/aspect_ratio)\n",
    "\n",
    "print(f'Aspect ratio: {aspect_ratio}')\n",
    "print(f'New dimensions: ({new_width}, {new_height})')\n",
    "\n",
    "# scale image to size of table\n",
    "# image = cv.resize(image, (new_width, new_height), interpolation=cv.INTER_NEAREST)\n",
    "\n",
    "image = cv.resize(image, (new_width, new_height), interpolation=cv.INTER_AREA)"
   ]
  },
  {
   "cell_type": "code",
   "execution_count": 74,
   "metadata": {},
   "outputs": [
    {
     "data": {
      "image/png": "[encoded data removed]",
      "text/plain": [
       "<Figure size 1080x1080 with 2 Axes>"
      ]
     },
     "metadata": {},
     "output_type": "display_data"
    }
   ],
   "source": [
    "# TODO: improve with interactive mask refinement https://docs.opencv.org/3.4/d8/d83/tutorial_py_grabcut.html\n",
    "mask = np.zeros(image.shape[:2], np.uint8)\n",
    "\n",
    "bgdModel = np.zeros((1, 65), np.float64)\n",
    "fgdModel = np.zeros((1, 65), np.float64)\n",
    "\n",
    "rect = np.array(([50, 50], [125, 200]))\n",
    "im_with_rect = np.copy(image)\n",
    "cv.rectangle(im_with_rect, rect[0], rect[1], (0, 255, 0), 3)\n",
    "\n",
    "plt.subplot(121)\n",
    "show(im_with_rect, 'Rectangle', False)\n",
    "\n",
    "cv.grabCut(image, mask, rect.flatten(), bgdModel, fgdModel, 5, cv.GC_INIT_WITH_RECT)\n",
    "mask2 = np.where((mask==2) | (mask==0), 0, 1).astype('uint8')\n",
    "cut_im = image * mask2[:,:,np.newaxis]\n",
    "plt.subplot(122)\n",
    "show(cut_im, 'Cut Image')"
   ]
  },
  {
   "cell_type": "code",
   "execution_count": 71,
   "metadata": {},
   "outputs": [
    {
     "data": {
      "application/vnd.jupyter.widget-view+json": {
       "model_id": "f0b8c139fb4e4e22ad73a847c41c68f3",
       "version_major": 2,
       "version_minor": 0
      },
      "text/plain": [
       "interactive(children=(IntSlider(value=100, description='min_threshold', max=300, min=-100), IntSlider(value=20…"
      ]
     },
     "metadata": {},
     "output_type": "display_data"
    }
   ],
   "source": [
    "@interact(min_threshold=100, max_threshold=200, aperture=(3,7,2))\n",
    "def get_contours(min_threshold, max_threshold, aperture=3):\n",
    "\t# get edges using Canny edge detector\n",
    "\tglobal edges\n",
    "\tedges = cv.Canny(image, min_threshold, max_threshold, apertureSize=aperture)\n",
    "\n",
    "\t# display original image\n",
    "\tplt.subplot(121)\n",
    "\t# opencv stores image as bgr, need to convert back to display properly\n",
    "\tshow(cv.cvtColor(image, cv.COLOR_BGR2RGB), 'Original Image', False)\n",
    "\n",
    "\t# display detected edges\n",
    "\tplt.subplot(122)\n",
    "\tshow(edges, 'Edges')"
   ]
  },
  {
   "cell_type": "code",
   "execution_count": 72,
   "metadata": {},
   "outputs": [
    {
     "data": {
      "application/vnd.jupyter.widget-view+json": {
       "model_id": "235ec446aae1446d8103c4a050ee268c",
       "version_major": 2,
       "version_minor": 0
      },
      "text/plain": [
       "interactive(children=(IntSlider(value=-1, description='cur_depth', max=12, min=-1), Output()), _dom_classes=('…"
      ]
     },
     "metadata": {},
     "output_type": "display_data"
    }
   ],
   "source": [
    "# TODO: RETR_EXTERNAL might be good\n",
    "contours, hierarchy = cv.findContours(edges, cv.RETR_TREE, cv.CHAIN_APPROX_SIMPLE)\n",
    "hierarchy = hierarchy[0]\n",
    "\n",
    "# hierarchy format: [next (same level), previous (same level), first_child, parent]\n",
    "# roots have no parent (parent is -1). Get index for all roots\n",
    "roots = [i for i, h in enumerate(hierarchy) if h[3] == -1]\n",
    "\n",
    "w = widgets.IntSlider(value=-1, min=-1, max=len(contours))\n",
    "@interact(cur_depth=w)\n",
    "def draw_image(cur_depth):\n",
    "\t# display detected contours\n",
    "\tim_contours = image.copy()\n",
    "\tcmap = plt.cm.get_cmap('hsv', len(contours))\n",
    "\n",
    "\tdef draw_hierarchy(root, depth, group_index):\n",
    "\t\tgroup_color = np.multiply(cmap(group_index), 255)\n",
    "\t\t# group_color = np.multiply(cmap(depth), 255)\n",
    "\n",
    "\t\tcur_hierarchy = hierarchy[root]\n",
    "\n",
    "\t\tcontour = contours[root]\n",
    "\t\tif cur_depth == -1 or depth == cur_depth:\n",
    "\t\t\tcv.drawContours(im_contours, [contour], -1, group_color, 1)\n",
    "\t\t\tfor c in contour:\n",
    "\t\t\t\tcv.circle(im_contours, c[0], 1, group_color, cv.FILLED)\n",
    "\n",
    "\t\t# draw children of this contour\n",
    "\t\tchild_contour = cur_hierarchy[2]\n",
    "\t\tif (child_contour != -1):\n",
    "\t\t\tdraw_hierarchy(child_contour, depth + 1, group_index)\n",
    "\n",
    "\t\t# draw other contours on current level\n",
    "\t\tcur_contour = cur_hierarchy[0]\n",
    "\t\tif (cur_contour != -1):\n",
    "\t\t\tdraw_hierarchy(cur_contour, depth, group_index)\n",
    "\n",
    "\n",
    "\tfor i, group in enumerate(roots):\n",
    "\t\tdraw_hierarchy(group, 0, i)\t\n",
    "\t# draw_hierarchy(roots[0], 0)\t\n",
    "\n",
    "\t# for i, group in enumerate(contours):\n",
    "\t# \tgroup_color = np.multiply(cmap(i), 255)\n",
    "\t# \tcv.drawContours(im_contours, [group], -1, group_color, 1)\n",
    "\t# \t# cv.drawContours(im_contours, [group], -1, group_color, cv.FILLED)\n",
    "\t# \tfor contour in group:\n",
    "\t# \t\tcv.circle(im_contours, contour[0], 2, group_color, cv.FILLED)\n",
    "\n",
    "\tshow(im_contours, 'Contours')"
   ]
  },
  {
   "cell_type": "code",
   "execution_count": 73,
   "metadata": {},
   "outputs": [],
   "source": [
    "with open('out.g', 'w') as f:\n",
    "\tf.write('; BEGIN PRE\\n')\n",
    "\tf.write('G28\\n') # return to start\n",
    "\tf.write('G1 F1000\\n') # set print speed\n",
    "\tf.write('M906 X200 Y200\\n') # set stepper voltages\n",
    "\tf.write('M808 L0\\n') # loop forever\n",
    "\tf.write('; END PRE\\n')\n",
    "\n",
    "\tdef merge_vertices(parent: np.ndarray, child: np.ndarray):\n",
    "\t\tclosest_parent_vertex_index = 0\n",
    "\t\tclosest_child_vertex_index = 0\n",
    "\t\ttree = cKDTree(parent)\n",
    "\n",
    "\t\t# use kd tree to find the closest vertex on parent/child\n",
    "\t\tdist, idx = tree.query(np.array(child))\n",
    "\t\tclosest_child_vertex_index = np.argmin(dist)\n",
    "\t\tclosest_parent_vertex_index = idx[closest_child_vertex_index]\n",
    "\n",
    "\t\t# merge vertices\n",
    "\t\tcombined_vertices = []\n",
    "\t\tfor i, vertex in enumerate(parent):\n",
    "\t\t\tcombined_vertices.append(vertex)\n",
    "\n",
    "\t\t\t# connect vertex to the child contour\n",
    "\t\t\tif closest_parent_vertex_index == i:\n",
    "\t\t\t\t# make child array start at the index which connects to the parent \n",
    "\t\t\t\tshifted_vertices = list(np.roll(child, -closest_child_vertex_index, 0))\n",
    "\n",
    "\t\t\t\t# wrap to first point\n",
    "\t\t\t\t# TODO: this might cause duplicate points since we wrap to the first point earlier in the function\n",
    "\t\t\t\tshifted_vertices.append(shifted_vertices[0])\n",
    "\t\t\t\tcombined_vertices += shifted_vertices\n",
    "\n",
    "\t\t\t\t# readd original vertex to return to the parent object\n",
    "\t\t\t\tcombined_vertices.append(vertex)\n",
    "\t\treturn np.array(combined_vertices)\n",
    "\n",
    "\tdef get_vertices(root_index: int):\n",
    "\t\troot_hierarchy = hierarchy[root_index]\n",
    "\n",
    "\t\tcontour = contours[root_index]\n",
    "\t\tvertices = list(np.copy(contour))\n",
    "\t\t# wrap to return to first point\n",
    "\t\tvertices.append(vertices[0])\n",
    "\t\tvertices = np.array(vertices)\n",
    "\t\tvertices = np.reshape(vertices, (vertices.shape[0], vertices.shape[2]))\n",
    "\n",
    "\t\t# TODO: add min area to contours to filter out noise?\n",
    "\n",
    "\t\t# get child vertices\n",
    "\t\tchild_index = root_hierarchy[2]\n",
    "\t\tchildren = [] \n",
    "\t\tif (child_index != -1):\n",
    "\t\t\tchild_vertices = get_vertices(child_index)\n",
    "\t\t\tchildren.append(child_vertices)\n",
    "\t\tchildren.sort(key=cv.contourArea)\n",
    "\n",
    "\t\troot_and_child_vertices = vertices.copy()\n",
    "\t\tfor child in children:\n",
    "\t\t\troot_and_child_vertices = merge_vertices(root_and_child_vertices, child)\n",
    "\n",
    "\t\t# draw other contours on current level\n",
    "\t\tnext_contour = root_hierarchy[0]\n",
    "\t\tcombined_vertices = root_and_child_vertices.copy()\n",
    "\t\tif (next_contour != -1):\n",
    "\t\t\tvertices = get_vertices(next_contour)\n",
    "\t\t\tcombined_vertices = merge_vertices(combined_vertices, vertices)\n",
    "\n",
    "\t\treturn combined_vertices\n",
    "\n",
    "\tvertices = get_vertices(roots[0])\n",
    "\tfor vertex in vertices:\n",
    "\t\tf.write(f'G01 X{vertex[0]} Y{vertex[1]}\\n')"
   ]
  }
 ],
 "metadata": {
  "kernelspec": {
   "display_name": "Python 3.10.2 ('venv': venv)",
   "language": "python",
   "name": "python3"
  },
  "language_info": {
   "codemirror_mode": {
    "name": "ipython",
    "version": 3
   },
   "file_extension": ".py",
   "mimetype": "text/x-python",
   "name": "python",
   "nbconvert_exporter": "python",
   "pygments_lexer": "ipython3",
   "version": "3.10.2"
  },
  "orig_nbformat": 4,
  "vscode": {
   "interpreter": {
    "hash": "89074ed24855c0e150de6295153e71534eead7a50d9cfbd22fb3c9211951bb99"
   }
  }
 },
 "nbformat": 4,
 "nbformat_minor": 2
}
